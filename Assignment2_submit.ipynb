{
 "cells": [
  {
   "cell_type": "markdown",
   "metadata": {},
   "source": [
    "# COMP5046 Assignment2"
   ]
  },
  {
   "cell_type": "markdown",
   "metadata": {},
   "source": [
    "# 1 - Data Preprocessing"
   ]
  },
  {
   "cell_type": "markdown",
   "metadata": {},
   "source": [
    "## 1.1Read Data"
   ]
  },
  {
   "cell_type": "code",
   "execution_count": null,
   "metadata": {},
   "outputs": [],
   "source": [
    "import pandas as pd\n",
    "def read_data(file_name):\n",
    "    df = pd.read_csv(file_name)\n",
    "    Sentences = ' '.join(df.Sentence.tolist()).split(' . ')\n",
    "    word = ' '.join(df.Sentence.tolist()).split(' ')\n",
    "    try:\n",
    "        target = ' '.join(df.NER.tolist()).split(' ')\n",
    "\n",
    "    except:\n",
    "        target = df.NER.tolist()\n",
    "    train = [sentence.strip().split() + ['.'] for sentence in Sentences]\n",
    "    train[-1] = train[-1][:-1]\n",
    "    i = 0\n",
    "    tags = []\n",
    "    for sentence in train:\n",
    "        tag = target[i:i + len(sentence)]\n",
    "        tags.append(tag)\n",
    "        i += len(sentence)\n",
    "    print(\"data has been loaded!\")\n",
    "    return train, tags\n",
    "\n",
    "\n",
    "def read_test_data(file_name):\n",
    "    df = pd.read_csv(file_name)\n",
    "    Sentences = ' '.join(df.Sentence.tolist()).split(' . ')\n",
    "    word = ' '.join(df.Sentence.tolist()).split(' ')\n",
    "    train = [sentence.strip().split() + ['.'] for sentence in Sentences]\n",
    "    train[-1] = train[-1][:-1]\n",
    "    print(\"test data has been loaded!\")\n",
    "    return train\n",
    "\n",
    "\n",
    "train_data, target_y_train = read_data(\"train.csv\")\n",
    "validation_data, target_y_validation = read_data(\"val.csv\")\n",
    "test_data = read_test_data('test.csv')"
   ]
  },
  {
   "cell_type": "markdown",
   "metadata": {},
   "source": [
    "## 1.2 Build Features"
   ]
  },
  {
   "cell_type": "markdown",
   "metadata": {},
   "source": [
    "### 1.2.1 TF-IDF Score"
   ]
  },
  {
   "cell_type": "code",
   "execution_count": null,
   "metadata": {},
   "outputs": [],
   "source": [
    "def tf_idf(data):\n",
    "    import numpy as np\n",
    "    DF = {}\n",
    "\n",
    "    for tokensized_doc in data:\n",
    "        # get each unique word in the doc - we need to know whether the word is appeared in the document\n",
    "        for term in np.unique(tokensized_doc):\n",
    "            try:\n",
    "                DF[term] += 1\n",
    "            except:\n",
    "                DF[term] = 1\n",
    "\n",
    "    from nltk.corpus import stopwords\n",
    "    from nltk.tokenize import word_tokenize\n",
    "    from collections import Counter\n",
    "    import math\n",
    "\n",
    "    tf_idf = {}\n",
    "\n",
    "    # total number of documents\n",
    "    N = len(data)\n",
    "\n",
    "    doc_id = 0\n",
    "    # get each tokenised doc\n",
    "    for tokensized_doc in data:\n",
    "        # initialise counter for the doc\n",
    "        counter = Counter(tokensized_doc)\n",
    "        # calculate total number of words in the doc\n",
    "        total_num_words = len(tokensized_doc)\n",
    "\n",
    "        # get each unique word in the doc\n",
    "        for term in np.unique(tokensized_doc):\n",
    "            # calculate Term Frequency\n",
    "            tf = counter[term] / total_num_words\n",
    "\n",
    "            # calculate Document Frequency\n",
    "            df = DF[term]\n",
    "\n",
    "            # calculate Inverse Document Frequency\n",
    "            idf = math.log(N / (df + 1)) + 1\n",
    "\n",
    "            # calculate TF-IDF\n",
    "            tf_idf[doc_id, term] = tf * idf\n",
    "\n",
    "        doc_id += 1\n",
    "\n",
    "    TF_doc=[]\n",
    "    for i in range(N):\n",
    "        temp=[]\n",
    "        for word in data[i]:\n",
    "            temp.append(tf_idf[(i,word)])\n",
    "        TF_doc.append(temp)\n",
    "\n",
    "    return TF_doc"
   ]
  },
  {
   "cell_type": "markdown",
   "metadata": {},
   "source": [
    "### 1.2.2 POS Tag"
   ]
  },
  {
   "cell_type": "markdown",
   "metadata": {},
   "source": [
    "## 1.3 Build Feature to Data"
   ]
  },
  {
   "cell_type": "markdown",
   "metadata": {},
   "source": [
    "### 1.3.1 Build Word and Tag Dictionary"
   ]
  },
  {
   "cell_type": "code",
   "execution_count": null,
   "metadata": {},
   "outputs": [],
   "source": [
    "word_to_ix = {}\n",
    "for sentence in train_data+validation_data+test_data:\n",
    "    for word in sentence:\n",
    "        word = word.lower()\n",
    "        if word not in word_to_ix:\n",
    "            word_to_ix[word] = len(word_to_ix)\n",
    "word_list = list(word_to_ix.keys())\n",
    "\n",
    "START_TAG = \"<START>\"\n",
    "STOP_TAG = \"<STOP>\"\n",
    "tag_to_ix = {START_TAG:0, STOP_TAG:1}\n",
    "for tags in target_y_train+target_y_validation:\n",
    "    for tag in tags:\n",
    "        if tag not in tag_to_ix:\n",
    "            tag_to_ix[tag] = len(tag_to_ix)\n",
    "\n",
    "pos_to_ix = {START_TAG:0, STOP_TAG:1}\n",
    "for tags in POS_tag:\n",
    "    for tag in tags:\n",
    "        if tag not in pos_to_ix:\n",
    "            pos_to_ix[tag] = len(pos_to_ix)"
   ]
  },
  {
   "cell_type": "markdown",
   "metadata": {},
   "source": [
    "### 1.3.2 Load Pretrained Model"
   ]
  },
  {
   "cell_type": "code",
   "execution_count": null,
   "metadata": {},
   "outputs": [],
   "source": [
    "import gensim.downloader as api\n",
    "import numpy as np\n",
    "word_emb_model = api.load(\"glove-twitter-50\")\n",
    "print(\"=\"*89)\n",
    "print(\"pre-trained word embedding model has been loaded!\")\n",
    "print(\"=\"*89)\n",
    "EMBEDDING_DIM = 50\n",
    "\n",
    "embedding_matrix = []\n",
    "for word in word_list:\n",
    "    try:\n",
    "        embedding_matrix.append(word_emb_model.wv[word])\n",
    "    except:\n",
    "        embedding_matrix.append([0]*EMBEDDING_DIM)\n",
    "embedding_matrix = np.array(embedding_matrix)\n",
    "embedding_matrix.shape"
   ]
  },
  {
   "cell_type": "markdown",
   "metadata": {},
   "source": [
    "### 1.3.3 Transform Data to Index"
   ]
  },
  {
   "cell_type": "code",
   "execution_count": null,
   "metadata": {},
   "outputs": [],
   "source": [
    "def to_index(data, to_ix):\n",
    "    input_index_list = []\n",
    "    for sent in data:\n",
    "        input_index_list.append([to_ix[w] for w in sent])\n",
    "    return input_index_list"
   ]
  },
  {
   "cell_type": "code",
   "execution_count": null,
   "metadata": {},
   "outputs": [],
   "source": [
    "train_pos = POS_tag[:len(train_data)]\n",
    "val_pos = POS_tag[len(train_data):(len(train_data+validation_data))]\n",
    "test_pos = POS_tag[-len(test_data):]\n",
    "\n",
    "train_input_index =  to_index(train_data,word_to_ix)\n",
    "train_pos_index =  to_index(train_pos,pos_to_ix)\n",
    "train_output_index = to_index(target_y_train,tag_to_ix)\n",
    "val_input_index = to_index(validation_data,word_to_ix)\n",
    "val_pos_index =  to_index(val_pos,pos_to_ix)\n",
    "val_output_index = to_index(target_y_validation,tag_to_ix)\n",
    "test_input_index = to_index(test_data,word_to_ix)\n",
    "test_pos_index =  to_index(test_pos,pos_to_ix)\n",
    "\n",
    "train_tf_idf_index = tf_idf(train_data)\n",
    "val_tf_idf_index = tf_idf(validation_data)\n",
    "test_tf_idf_index = tf_idf(test_data)"
   ]
  },
  {
   "cell_type": "markdown",
   "metadata": {},
   "source": [
    "# 2 - Model Implementation"
   ]
  },
  {
   "cell_type": "markdown",
   "metadata": {},
   "source": [
    "## 2.1 Build NER Model"
   ]
  },
  {
   "cell_type": "markdown",
   "metadata": {},
   "source": [
    "## 2.2 Train NER Model"
   ]
  },
  {
   "cell_type": "markdown",
   "metadata": {},
   "source": [
    "## 2.3 Save NER Model"
   ]
  },
  {
   "cell_type": "markdown",
   "metadata": {},
   "source": [
    "# 3 - Evaluate NER Model"
   ]
  },
  {
   "cell_type": "markdown",
   "metadata": {},
   "source": [
    "## 3.1 Performance Comparison"
   ]
  },
  {
   "cell_type": "markdown",
   "metadata": {},
   "source": [
    "## 3.2 Ablation Study - different embedding model"
   ]
  },
  {
   "cell_type": "markdown",
   "metadata": {},
   "source": [
    "## 3.3 Ablation Study - different attention strategy"
   ]
  },
  {
   "cell_type": "markdown",
   "metadata": {},
   "source": [
    "## 3.4 Ablation Study - different layer strategy"
   ]
  },
  {
   "cell_type": "code",
   "execution_count": null,
   "metadata": {},
   "outputs": [],
   "source": []
  }
 ],
 "metadata": {
  "kernelspec": {
   "display_name": "Python 3",
   "language": "python",
   "name": "python3"
  },
  "language_info": {
   "codemirror_mode": {
    "name": "ipython",
    "version": 3
   },
   "file_extension": ".py",
   "mimetype": "text/x-python",
   "name": "python",
   "nbconvert_exporter": "python",
   "pygments_lexer": "ipython3",
   "version": "3.6.10"
  }
 },
 "nbformat": 4,
 "nbformat_minor": 4
}
